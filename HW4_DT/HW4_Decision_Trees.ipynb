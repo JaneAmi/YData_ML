{
  "cells": [
    {
      "cell_type": "markdown",
      "metadata": {
        "id": "Cg047ujRBmtU"
      },
      "source": [
        "# Decision Trees Exercise\n",
        "In this exercise you will show that ID3 is sub-optimal. Implement a simple version of Decision Tree, and will then apply a Decision Tree classsifier on the MNIST hand written digits dataset that we already saw.\n"
      ]
    },
    {
      "cell_type": "markdown",
      "metadata": {
        "id": "osXAmT5y4iM8"
      },
      "source": [
        "## 1. Suboptimality of ID3\n",
        "Consider the following training set, where $\\mathcal{X} = \\{0, 1\\}^3$ and $\\mathcal{Y} =\\{0, 1\\}$:\n",
        "\n",
        "$$\n",
        "\\begin{aligned}\n",
        "((1, 1, 1), 1)\\\\\n",
        "((1, 0, 0), 1)\\\\\n",
        "((1, 1, 0), 0)\\\\\n",
        "((0, 0, 1), 0)\n",
        "\\end{aligned}\n",
        "$$\n",
        "\n",
        "Suppose we wish to use this training set in order to build a decision tree of depth 2 (i.e. for each\n",
        "input we are allowed to ask two questions of the form \"$x_i = 0$?\" before deciding on the label).\n",
        "\n",
        "1. Suppose we run the ID3 algorithm up to depth 2 (namely, we pick the root node and its\n",
        "children according to the algorithm, but instead of keeping on with the recursion, we stop\n",
        "and pick leaves according to the majority label in each subtree, once we reach depth 2).\n",
        "Assume that the subroutine used to measure the quality of each feature is based on the information gain, and that if two features get the same score, one of them is picked arbitrarily.\n",
        "Show that the training error of the resulting decision tree is at least 1/4.\n",
        "2. Find a decision tree of depth 2, which attains zero training error.\n"
      ]
    },
    {
      "cell_type": "markdown",
      "metadata": {
        "id": "xC7Anlwu50XD"
      },
      "source": [
        "#### Answer\n",
        "1. Let's implement the ID3 algorithm below:"
      ]
    },
    {
      "cell_type": "code",
      "execution_count": 26,
      "metadata": {},
      "outputs": [
        {
          "name": "stdout",
          "output_type": "stream",
          "text": [
            "Training examples entropy:\n",
            "H(S) = -(2 * 1/2 * log(1/2)) = 1.0\n",
            "\n",
            "H(x1=1) = -(2/3 * log(2/3) + 1/3 * log(1/3)) = 0.9183\n",
            "H(x1=0) = -0.0\n",
            "Gain(S, x1) = 1 -3/4 * 0.9183 = 0.3113\n",
            "\n",
            "H(x2=1) = 1.0\n",
            "H(x2=0) = 1.0\n",
            "Gain(S, x2) = 0\n",
            "\n",
            "H(x3=1) = 1.0\n",
            "H(x3=0) = 1.0\n",
            "Gain(S, x3) = 0\n",
            "\n",
            "x1 gives maximum Gain, therefore x1 is a root node.\n",
            "Let's find it's children.\n",
            "Entropy x1 = 1\n",
            "H(x1=1) = 0.9183\n",
            "\n",
            "H(x2=1|x1=1) = 1.0\n",
            "H(x2=0|x1=1) = -0.0\n",
            "Gain(H(x1=1), x3) = 0.2516\n",
            "\n",
            "H(x3=1|x1=1) = -0.0\n",
            "H(x3=0|x1=1) = 1.0\n",
            "Gain(H(x1=1), x3) = 0.2516\n",
            "The gains of x2 and x3 given x1=1 are equal, hence it doesn't matter what we will choose, let's pick x2\n",
            "For x1=1 and x2=0 the result is 1, and for x1=1 and x2=1 the result will be 1\n"
          ]
        }
      ],
      "source": [
        "import math\n",
        "\n",
        "def entropy(n_tl, n_fl, rv=4):\n",
        "    \"\"\"rv - round value\"\"\"\n",
        "    p_tl = n_tl / (n_tl + n_fl)\n",
        "    p_fl = n_fl / (n_tl + n_fl)\n",
        "    return round((-1) * (p_tl * (math.log2(p_tl) if p_tl !=0 else 0) + p_fl * (math.log2(p_fl) if p_fl !=0 else 0)), rv)\n",
        "\n",
        "# roud till\n",
        "rv = 4\n",
        "\n",
        "print('Training examples entropy:')\n",
        "print(f'H(S) = -(2 * 1/2 * log(1/2)) = {entropy(2,2)}')\n",
        "\n",
        "\n",
        "print()\n",
        "print (f'H(x1=1) = -(2/3 * log(2/3) + 1/3 * log(1/3)) = {entropy(2, 1)}')\n",
        "print (f'H(x1=0) = {entropy(1,0)}')\n",
        "gain_s_x1 = round(1 - 3/4 * entropy(2, 1), rv)\n",
        "print(f'Gain(S, x1) = 1 -3/4 * {entropy(2, 1)} = {gain_s_x1}')\n",
        "\n",
        "print()\n",
        "print (f'H(x2=1) = {entropy(1,1)}')\n",
        "print (f'H(x2=0) = {entropy(1,1)}')\n",
        "print(f'Gain(S, x2) = 0')\n",
        "\n",
        "print()\n",
        "print (f'H(x3=1) = {entropy(1,1)}')\n",
        "print (f'H(x3=0) = {entropy(1,1)}')\n",
        "print(f'Gain(S, x3) = 0')\n",
        "\n",
        "print()\n",
        "print('x1 gives maximum Gain, therefore x1 is a root node.')\n",
        "print(\"Let's find it's children.\")\n",
        "e_x1_1 = entropy(2,1)\n",
        "print('Entropy x1 = 1')\n",
        "print(f'H(x1=1) = {e_x1_1}')\n",
        "\n",
        "\n",
        "print()\n",
        "print (f'H(x2=1|x1=1) = {entropy(1,1)}')\n",
        "print (f'H(x2=0|x1=1) = {entropy(1,0)}')\n",
        "print(f'Gain(H(x1=1), x3) = {round(e_x1_1 - 2/3 * entropy(1,1), rv)}')\n",
        "\n",
        "print()\n",
        "print (f'H(x3=1|x1=1) = {entropy(1,0)}')\n",
        "print (f'H(x3=0|x1=1) = {entropy(1,1)}')\n",
        "print(f'Gain(H(x1=1), x3) = {round(e_x1_1 - 2/3 * entropy(1,1), rv)}')\n",
        "\n",
        "print(\"The gains of x2 and x3 given x1=1 are equal, hence it doesn't matter what we will choose, let's pick x2\")\n",
        "\n",
        "print(\"For x1=1 and x2=0 the result is 1, and for x1=1 and x2=1 the result will be 1\")"
      ]
    },
    {
      "cell_type": "markdown",
      "metadata": {},
      "source": [
        "According to the above the decision tree looks like:\n",
        "\n",
        "![dt_gain](x1_1.png)\n",
        "\n",
        "<u>Show that the training error of the resulting decision tree is at least 1/4.</u>\n",
        "\n",
        "1. If x1 = 0 according to the decision tree y = 0 which is correct\n",
        "2. If x1 = 1 and x2 = 0 according to the decision tree y = 0 which is also correct\n",
        "3. But if x1 = 1 and x2 = 1 the algorithm could yield the correct result 1 with the probability of 1/2. Therefore the expected value in that case is 1/2. \n",
        "Given that the function for the error is: $$\\frac{1}{n}\\sum_{i=1}^{n}(y_i - \\hat{y}_i)$$ and the errors for the first two cases are equal to 0 we can calculate the error for the third case which is: $$\\frac{1}{1}(1-\\frac{1}{2})^2 = \\frac{1}{4}$$"
      ]
    },
    {
      "cell_type": "markdown",
      "metadata": {},
      "source": [
        "2. A decision tree of depth 2, which attains zero training error.\n",
        "\n",
        "![dt](x2.png) "
      ]
    },
    {
      "cell_type": "markdown",
      "metadata": {
        "id": "tLXpoHg64HlD"
      },
      "source": [
        "## 2. Implementing Decision Tree From Scratch\n",
        "In this exercise you will need to implement a simple version of Decision Tree from scratch. Your decision tree will handle **continuous input and output** (this should actually work also for binary input attributes).\n",
        "\n",
        "* Compelete the skeleton class below\n",
        "  - `X` is a matrix of data values (rows are samples, columns are attributes)\n",
        "  - `y` is a vector of corresponding target values\n",
        "  - `min_leaf` is the minimal number of samples in each leaf node\n",
        "  \n",
        "* For splitting criterion, use either **\"Train Squared Error Minimization (Reduction in Variance)\"** or **\"Train Absolute Error Minimization\"** (choose one). Whatever you choose, make sure you implement the splitting point decision efficiently (in $O(nlgn)$ time).\n",
        "\n",
        "* The `predict` function will use mean of the target values in the leaf node matching each row of the given `X`. The result is a vector of predictions matching the number of rows in `X`.\n",
        "\n",
        "* To check your decision tree implementation, use the boston dataset: (https://www.cs.toronto.edu/~delve/data/boston/bostonDetail.html) split the data set into train and test using (`from sklearn.model_selection import train_test_split`)\n",
        "\n",
        "  - Use the following to estimate what are the best hyper parameters to use for your model\n",
        "```\n",
        "    for min_leaf in [1,5,10,100]:\n",
        "      dt = DecisionTree(X, y, n, sz, min_leaf)\n",
        "      mse = # mean square error over test set\n",
        "      print(\"min_leaf:{0} --- oob mse: {1}\".format(min_leaf, mse))\n",
        "```\n",
        "  \n",
        "  - Using your chosen hyperparameters as a final model, plot the predictions vs. true values of all the samples in the training set . Use something like:\n",
        "  ```\n",
        "  y_hat = dt.predict(X_train)  # forest is the chosen model\n",
        "  plt.scatter(y_hat, y_test)\n",
        "  ```"
      ]
    },
    {
      "cell_type": "code",
      "execution_count": 3,
      "metadata": {},
      "outputs": [],
      "source": [
        "import numpy as np\n",
        "import pandas as pd\n",
        "import matplotlib.pyplot as plt\n",
        "\n",
        "from sklearn.model_selection import train_test_split"
      ]
    },
    {
      "cell_type": "code",
      "execution_count": 4,
      "metadata": {
        "id": "QA54r4DiQDkM"
      },
      "outputs": [],
      "source": [
        "class DecisionTree():\n",
        "    def __init__(self, X, y, min_leaf):\n",
        "        self.data = X\n",
        "        self.y = y\n",
        "        self.min_leaf = min_leaf\n",
        "        self.root = self.grow_tree(self.data, self.y)\n",
        "\n",
        "    def grow_tree(self, X, y, depth=0):\n",
        "\n",
        "        # check constraint\n",
        "        if X.shape[0] <= self.min_leaf:\n",
        "            leaf_value = np.mean(y)\n",
        "            return Node(value=leaf_value)\n",
        "\n",
        "        # find the best split\n",
        "        best_feature_ixd, best_threshold = self._best_split(X, y)\n",
        "\n",
        "        # create child nodes\n",
        "        left_idxs, right_idxs = self._split(X[:, best_feature_ixd], best_threshold)\n",
        "\n",
        "        left = self.grow_tree(X[list(left_idxs), :], y[left_idxs], depth+1)\n",
        "        right = self.grow_tree(X[right_idxs, :], y[right_idxs], depth+1)\n",
        "            \n",
        "        return Node(best_feature_ixd, best_threshold, left, right)\n",
        "\n",
        "    def _best_split(self, X, y):\n",
        "        \n",
        "        best_feature_ixd, best_threshold = None, None\n",
        "        lowest_mse = self._squared_error(y)\n",
        "\n",
        "        for feat_idx in range(X.shape[1]):\n",
        "            \n",
        "            # define possible thresholds for the split\n",
        "            X_column = X[:, feat_idx]\n",
        "            X_column_uv = np.unique(X_column)\n",
        "            # thresholds = set(np.convolve(np.sort(X_column), np.ones(2)/2, mode='valid'))\n",
        "            # define a step for tresholds\n",
        "            tr_step = 1/len(X_column_uv)\n",
        "            # define array of probabilities \n",
        "            tr_prob = np.arange(start=1, stop=(len(X_column_uv)))\n",
        "            # define array of tresholds\n",
        "            #print(X_column_uv)\n",
        "            thresholds = np.quantile(X_column_uv, tr_prob * tr_step)\n",
        "            \n",
        "\n",
        "            for threshold in thresholds:\n",
        "                # getting the left and right nodes\n",
        "                left_idxs, right_idxs = self._split(X_column, threshold)\n",
        "\n",
        "                # calculate the weighted avg. mse of children\n",
        "                n = len(y)\n",
        "                n_l, n_r = len(left_idxs), len(right_idxs)\n",
        "                mse_l = self._squared_error(y[left_idxs]) \n",
        "                mse_r = self._squared_error(y[right_idxs])\n",
        "                child_mse = (n_l/n) * mse_l + (n_r/n) * mse_r\n",
        "                if best_feature_ixd is None:\n",
        "                    best_feature_ixd = feat_idx\n",
        "                if best_threshold is None:\n",
        "                    best_threshold = threshold\n",
        "\n",
        "                if lowest_mse > child_mse:\n",
        "                    lowest_mse = child_mse\n",
        "                    best_feature_ixd = feat_idx\n",
        "                    best_threshold = threshold\n",
        "\n",
        "        return best_feature_ixd, best_threshold\n",
        "\n",
        "    def _split(self, X_column, split_thresh):        \n",
        "        # get indicies after the split\n",
        "        left_idxs = np.where(X_column <= split_thresh)\n",
        "        right_idxs = np.where(X_column > split_thresh)\n",
        "\n",
        "        return left_idxs[0], right_idxs[0]\n",
        "\n",
        "    def _squared_error(self, y):\n",
        "        # calculate the mean value for all observations\n",
        "        y_mean = np.mean(y)\n",
        "\n",
        "        # calculate the residuals to y_mean\n",
        "        mean_squared_error = np.mean((y - y_mean)**2)\n",
        "\n",
        "        return mean_squared_error\n",
        "      \n",
        "\n",
        "    def predict(self, X):\n",
        "        return np.array([self._traverse_tree(x, self.root) for x in X])\n",
        "\n",
        "    def _traverse_tree(self, x, node):\n",
        "        if node.is_leaf_node():\n",
        "            return node.value\n",
        "\n",
        "        if x[node.feature] <= node.threshold:\n",
        "            return self._traverse_tree(x, node.left)\n",
        "\n",
        "        return self._traverse_tree(x, node.right)\n",
        "  \n",
        "\n",
        "class Node():\n",
        "    def __init__(\n",
        "                    self, \n",
        "                    feature=None, \n",
        "                    threshold=None, \n",
        "                    left=None, \n",
        "                    right=None, \n",
        "                    value=None\n",
        "                ):\n",
        "        self.feature = feature\n",
        "        self.threshold = threshold\n",
        "        self.left = left\n",
        "        self.right = right\n",
        "        self.value = value # is it a leave node?\n",
        "\n",
        "    def is_leaf_node(self):\n",
        "        return self.value is not None\n",
        "\n"
      ]
    },
    {
      "cell_type": "code",
      "execution_count": 5,
      "metadata": {},
      "outputs": [],
      "source": [
        "# use the boston dataset\n",
        "data_url = \"http://lib.stat.cmu.edu/datasets/boston\"\n",
        "raw_df = pd.read_csv(data_url, sep=\"\\s+\", skiprows=22, header=None)\n",
        "data = np.hstack([raw_df.values[::2, :], raw_df.values[1::2, :2]])\n",
        "target = raw_df.values[1::2, 2]\n",
        "\n",
        "# split the data set into train and test\n",
        "X_train, X_test, y_train, y_test = train_test_split(data, target, test_size=0.2, random_state=42)"
      ]
    },
    {
      "cell_type": "code",
      "execution_count": 6,
      "metadata": {},
      "outputs": [
        {
          "name": "stdout",
          "output_type": "stream",
          "text": [
            "min_leaf:1 --- oob mse: 17.22666666666667\n",
            "min_leaf:5 --- oob mse: 11.923412227668846\n",
            "min_leaf:10 --- oob mse: 10.9261616495518\n",
            "min_leaf:20 --- oob mse: 11.042765397440863\n",
            "min_leaf:50 --- oob mse: 12.452203370313114\n",
            "min_leaf:100 --- oob mse: 19.70987506596517\n"
          ]
        }
      ],
      "source": [
        "from sklearn.metrics import mean_squared_error\n",
        "\n",
        "# estimate what are the best hyper parameters to use for your model\n",
        "for min_leaf in [1, 5, 10, 20, 50, 100]:\n",
        "      dt = DecisionTree(X_train, y_train, min_leaf)\n",
        "      y_pred = dt.predict(X_test)\n",
        "      mse = mean_squared_error(y_pred, y_test)\n",
        "      print(\"min_leaf:{0} --- oob mse: {1}\".format(min_leaf, mse))"
      ]
    },
    {
      "cell_type": "markdown",
      "metadata": {},
      "source": [
        "The best result appears when min_leaf is equal to 10"
      ]
    },
    {
      "cell_type": "code",
      "execution_count": 7,
      "metadata": {},
      "outputs": [
        {
          "data": {
            "text/plain": [
              "Text(0, 0.5, 'y_train')"
            ]
          },
          "execution_count": 7,
          "metadata": {},
          "output_type": "execute_result"
        },
        {
          "data": {
            "image/png": "[encoded data removed]",
            "text/plain": [
              "<Figure size 640x480 with 1 Axes>"
            ]
          },
          "metadata": {},
          "output_type": "display_data"
        }
      ],
      "source": [
        "# plot the predictions vs. true values of all the samples in the training set\n",
        "\n",
        "best_dt = DecisionTree(X_train, y_train, 10)\n",
        "y_pred = best_dt.predict(X_test)\n",
        "plt.scatter(x=y_pred, y=y_test, label=True, alpha=0.8)\n",
        "plt.xlabel('y_pred')\n",
        "plt.ylabel('y_train')"
      ]
    },
    {
      "cell_type": "markdown",
      "metadata": {
        "id": "TF5TjNuvTKof"
      },
      "source": [
        "## 3. Using Decision Tree for Digits Classification\n",
        "Remeber the MNIST dataset used - you will now test the power of decision trees on this problem.\n",
        "This time you are given a free hand in choosing the test and train set sizes, model parameters (such as gain function and constraints over the trees) and features (whether to use binary pixel values or the original continous gray value).\n",
        "  - You can use `sklearn.tree.DecisionTreeClassifier`\n",
        "- Once you are satisfied with the model parameters, plot the importance of each of the pixels to the final decision.\n",
        "- Last, estimate the class assignment probabilities for all the correctly classified and misclassified examples in your test data.\n",
        "- Discuss your results."
      ]
    },
    {
      "cell_type": "code",
      "execution_count": null,
      "metadata": {
        "id": "8-k9WpIV_n7Y",
        "pycharm": {
          "name": "#%%\n"
        }
      },
      "outputs": [],
      "source": [
        "# code and answer go here"
      ]
    }
  ],
  "metadata": {
    "colab": {
      "provenance": []
    },
    "kernelspec": {
      "display_name": "Python 3",
      "language": "python",
      "name": "python3"
    },
    "language_info": {
      "codemirror_mode": {
        "name": "ipython",
        "version": 3
      },
      "file_extension": ".py",
      "mimetype": "text/x-python",
      "name": "python",
      "nbconvert_exporter": "python",
      "pygments_lexer": "ipython3",
      "version": "3.10.13"
    }
  },
  "nbformat": 4,
  "nbformat_minor": 0
}
